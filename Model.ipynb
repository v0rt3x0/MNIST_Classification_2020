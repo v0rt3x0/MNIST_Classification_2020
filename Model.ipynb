{
 "cells": [
  {
   "cell_type": "code",
   "execution_count": 14,
   "id": "641dbfa9",
   "metadata": {},
   "outputs": [],
   "source": [
    "from tensorflow.keras.datasets import mnist\n",
    "from tensorflow.keras.utils import to_categorical\n",
    "from tensorflow.keras.models import Sequential\n",
    "from tensorflow.keras.layers import Conv2D\n",
    "from tensorflow.keras.layers import MaxPooling2D\n",
    "from tensorflow.keras.layers import Dense\n",
    "from tensorflow.keras.layers import Flatten\n",
    "from tensorflow.keras.optimizers import SGD\n",
    "from DataLoader import load_dataset"
   ]
  },
  {
   "cell_type": "code",
   "execution_count": 15,
   "id": "eccb8748",
   "metadata": {},
   "outputs": [],
   "source": [
    "#Normalizing to [0,1] to make it easier to train since weights catering to 0-1 values are better than exploding weights for 0-255 pixels\n",
    "def prep_pixels(train, test):\n",
    " \n",
    " train_norm = train.astype('float32')\n",
    " test_norm = test.astype('float32')\n",
    " \n",
    " train_norm = train_norm / 255.0\n",
    " test_norm = test_norm / 255.0\n",
    " \n",
    " return train_norm, test_norm"
   ]
  },
  {
   "cell_type": "code",
   "execution_count": 16,
   "id": "f4725654",
   "metadata": {},
   "outputs": [],
   "source": [
    "#For a simple problem such as classifying digits, a small network such as this will do\n",
    "def define_model():\n",
    "    \n",
    " model = Sequential()\n",
    "\n",
    " model.add(Conv2D(32, (3, 3), activation='relu', kernel_initializer='he_uniform', input_shape=(28, 28, 1)))\n",
    " model.add(MaxPooling2D((2, 2)))\n",
    " model.add(Conv2D(64, (3, 3), activation='relu', kernel_initializer='he_uniform'))\n",
    " model.add(Conv2D(64, (3, 3), activation='relu', kernel_initializer='he_uniform'))\n",
    " model.add(MaxPooling2D((2, 2)))\n",
    " model.add(Flatten())\n",
    " model.add(Dense(100, activation='relu', kernel_initializer='he_uniform'))\n",
    " model.add(Dense(10, activation='softmax'))\n",
    "\n",
    " # compile model\n",
    " opt = SGD(learning_rate=0.01, momentum=0.9)\n",
    " model.compile(optimizer=opt, loss='categorical_crossentropy', metrics=['accuracy'])\n",
    " model.summary()   \n",
    " return model"
   ]
  },
  {
   "cell_type": "code",
   "execution_count": 17,
   "id": "039995ff",
   "metadata": {},
   "outputs": [
    {
     "name": "stdout",
     "output_type": "stream",
     "text": [
      "Model: \"sequential_2\"\n",
      "_________________________________________________________________\n",
      " Layer (type)                Output Shape              Param #   \n",
      "=================================================================\n",
      " conv2d_6 (Conv2D)           (None, 26, 26, 32)        320       \n",
      "                                                                 \n",
      " max_pooling2d_4 (MaxPooling  (None, 13, 13, 32)       0         \n",
      " 2D)                                                             \n",
      "                                                                 \n",
      " conv2d_7 (Conv2D)           (None, 11, 11, 64)        18496     \n",
      "                                                                 \n",
      " conv2d_8 (Conv2D)           (None, 9, 9, 64)          36928     \n",
      "                                                                 \n",
      " max_pooling2d_5 (MaxPooling  (None, 4, 4, 64)         0         \n",
      " 2D)                                                             \n",
      "                                                                 \n",
      " flatten_2 (Flatten)         (None, 1024)              0         \n",
      "                                                                 \n",
      " dense_4 (Dense)             (None, 100)               102500    \n",
      "                                                                 \n",
      " dense_5 (Dense)             (None, 10)                1010      \n",
      "                                                                 \n",
      "=================================================================\n",
      "Total params: 159,254\n",
      "Trainable params: 159,254\n",
      "Non-trainable params: 0\n",
      "_________________________________________________________________\n"
     ]
    },
    {
     "data": {
      "text/plain": [
       "<keras.engine.sequential.Sequential at 0x1ae89cdba30>"
      ]
     },
     "execution_count": 17,
     "metadata": {},
     "output_type": "execute_result"
    }
   ],
   "source": [
    "define_model()"
   ]
  },
  {
   "cell_type": "code",
   "execution_count": 18,
   "id": "8a681f47",
   "metadata": {},
   "outputs": [],
   "source": [
    "def run_test_harness():\n",
    "\n",
    " trainX, trainY, testX, testY = load_dataset()\n",
    "\n",
    " trainX, testX = prep_pixels(trainX, testX)\n",
    "\n",
    " model = define_model()\n",
    "\n",
    " model.fit(trainX, trainY, epochs=10, batch_size=32, verbose=0)\n",
    "\n",
    " model.save('final_model.h5')\n",
    "\n",
    " _, acc = model.evaluate(testX, testY, verbose=0)\n",
    " print('> %.3f' % (acc * 100.0))"
   ]
  },
  {
   "cell_type": "code",
   "execution_count": null,
   "id": "0c51de42",
   "metadata": {},
   "outputs": [
    {
     "name": "stdout",
     "output_type": "stream",
     "text": [
      "Model: \"sequential_3\"\n",
      "_________________________________________________________________\n",
      " Layer (type)                Output Shape              Param #   \n",
      "=================================================================\n",
      " conv2d_9 (Conv2D)           (None, 26, 26, 32)        320       \n",
      "                                                                 \n",
      " max_pooling2d_6 (MaxPooling  (None, 13, 13, 32)       0         \n",
      " 2D)                                                             \n",
      "                                                                 \n",
      " conv2d_10 (Conv2D)          (None, 11, 11, 64)        18496     \n",
      "                                                                 \n",
      " conv2d_11 (Conv2D)          (None, 9, 9, 64)          36928     \n",
      "                                                                 \n",
      " max_pooling2d_7 (MaxPooling  (None, 4, 4, 64)         0         \n",
      " 2D)                                                             \n",
      "                                                                 \n",
      " flatten_3 (Flatten)         (None, 1024)              0         \n",
      "                                                                 \n",
      " dense_6 (Dense)             (None, 100)               102500    \n",
      "                                                                 \n",
      " dense_7 (Dense)             (None, 10)                1010      \n",
      "                                                                 \n",
      "=================================================================\n",
      "Total params: 159,254\n",
      "Trainable params: 159,254\n",
      "Non-trainable params: 0\n",
      "_________________________________________________________________\n"
      "> 99.070\n"
     ]
    }
   ],
   "source": [
    "run_test_harness()"
   ]
  },
  {
   "cell_type": "code",
   "execution_count": null,
   "id": "ab69c10e",
   "metadata": {},
   "outputs": [],
   "source": []
  }
 ],
 "metadata": {
  "kernelspec": {
   "display_name": "Python 3 (ipykernel)",
   "language": "python",
   "name": "python3"
  },
  "language_info": {
   "codemirror_mode": {
    "name": "ipython",
    "version": 3
   },
   "file_extension": ".py",
   "mimetype": "text/x-python",
   "name": "python",
   "nbconvert_exporter": "python",
   "pygments_lexer": "ipython3",
   "version": "3.9.7"
  }
 },
 "nbformat": 4,
 "nbformat_minor": 5
}
