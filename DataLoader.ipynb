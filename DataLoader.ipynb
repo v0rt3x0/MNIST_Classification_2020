{
 "cells": [
  {
   "cell_type": "code",
   "execution_count": 3,
   "id": "33ad2897",
   "metadata": {},
   "outputs": [],
   "source": [
    "#!pip install tensorflow\n",
    "from tensorflow.keras.datasets import mnist \n",
    "from tensorflow.keras.utils import to_categorical\n",
    "from tensorflow.keras.models import Sequential\n",
    "from tensorflow.keras.layers import Conv2D\n",
    "from tensorflow.keras.layers import MaxPooling2D\n",
    "from tensorflow.keras.layers import Dense\n",
    "from tensorflow.keras.layers import Flatten\n",
    "from tensorflow.keras.optimizers import SGD\n"
   ]
  },
  {
   "cell_type": "code",
   "execution_count": 5,
   "id": "defc392a",
   "metadata": {},
   "outputs": [],
   "source": [
    "def load_dataset():\n",
    "    \n",
    " dataset = mnist.load_data()\n",
    " (trainX, trainY), (testX, testY) = dataset\n",
    " \n",
    " trainX = trainX.reshape((trainX.shape[0], 28, 28, 1))\n",
    " testX = testX.reshape((testX.shape[0], 28, 28, 1))\n",
    " \n",
    " trainY = to_categorical(trainY)\n",
    " testY = to_categorical(testY)\n",
    "    \n",
    " return trainX, trainY, testX, testY"
   ]
  },
  {
   "cell_type": "code",
   "execution_count": null,
   "id": "0256bebd",
   "metadata": {},
   "outputs": [],
   "source": []
  }
 ],
 "metadata": {
  "kernelspec": {
   "display_name": "Python 3 (ipykernel)",
   "language": "python",
   "name": "python3"
  },
  "language_info": {
   "codemirror_mode": {
    "name": "ipython",
    "version": 3
   },
   "file_extension": ".py",
   "mimetype": "text/x-python",
   "name": "python",
   "nbconvert_exporter": "python",
   "pygments_lexer": "ipython3",
   "version": "3.9.7"
  }
 },
 "nbformat": 4,
 "nbformat_minor": 5
}
